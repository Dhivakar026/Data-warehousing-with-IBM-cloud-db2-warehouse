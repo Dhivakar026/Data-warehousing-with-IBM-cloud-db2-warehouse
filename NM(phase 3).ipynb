
//Retrieving a details of student


class StudentInformationSystem:
    def __init__(self):
        # Initialize an empty dictionary to store student information
        self.student_data = {}

    def add_student(self, full_name, register_number, department, academic_info, contact_info, extracurricular_activities):
        # Add a new student to the system
        self.student_data[register_number] = {
            'Full Name': full_name,
            'Register Number': register_number,
            'Department': department,
            'Academic Information': academic_info,
            'Contact Information': contact_info,
            'Extracurricular Activities': extracurricular_activities
        }

    def retrieve_student_details(self, register_number):
        # Retrieve student details based on register number
        return self.student_data.get(register_number, None)

# Example Usage:
if __name__ == "__main__":
    # Create an instance of the StudentInformationSystem
    sis = StudentInformationSystem()

    # Add sample student data
    sis.add_student("Haswanth", "040333", "Computer Science", {"Courses": ["CS101", "CS202"], "Grades": {"CS101": "A", "CS202": "B"}}, "haswanth11@gmail.com", ["Chess Club", "Coding Club"])

    # User input: Register number
    user_register_number = input("Enter student's register number: ")

    # Retrieve and display student details
    student_details = sis.retrieve_student_details(user_register_number)

    if student_details:
        print("\nStudent Details:")
        for key, value in student_details.items():
            print(f"{key}: {value}")
    else:
        print(f"\nStudent with register number {user_register_number} not found.")
